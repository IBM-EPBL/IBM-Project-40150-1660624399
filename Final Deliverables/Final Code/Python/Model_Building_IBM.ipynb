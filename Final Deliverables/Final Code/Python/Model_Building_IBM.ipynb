{
  "nbformat": 4,
  "nbformat_minor": 0,
  "metadata": {
    "colab": {
      "provenance": []
    },
    "kernelspec": {
      "name": "python3",
      "display_name": "Python 3"
    },
    "language_info": {
      "name": "python"
    }
  },
  "cells": [
    {
      "cell_type": "code",
      "execution_count": null,
      "metadata": {
        "id": "OwHJMqkkADql"
      },
      "outputs": [],
      "source": [
        "import warnings\n",
        "from decimal import Decimal\n",
        "import numpy as np\n",
        "import seaborn as sns\n",
        "import pandas as pd\n",
        "from sklearn.ensemble import ExtraTreesClassifier\n",
        "from sklearn.tree import DecisionTreeClassifier\n",
        "from sklearn.neighbors import KNeighborsClassifier\n",
        "from sklearn.svm import SVC\n",
        "from sklearn.metrics import accuracy_score,confusion_matrix,classification_report\n",
        "from sklearn.model_selection import train_test_split, cross_val_score\n",
        "from sklearn.model_selection import GridSearchCV\n",
        "from sklearn.ensemble import RandomForestClassifier\n",
        "from xgboost import XGBClassifier\n",
        "import matplotlib.pyplot as plt\n",
        "import os, types\n",
        "from botocore.client import Config\n",
        "import ibm_boto3\n",
        "\n",
        "\n",
        "def __iter__(self): return 0\n",
        "\n",
        "# @hidden_cell\n",
        "# The following code accesses a file in your IBM Cloud Object Storage. It includes your credentials.\n",
        "# You might want to remove those credentials before you share the notebook.\n",
        "cos_client = ibm_boto3.client(service_name='s3',\n",
        "    ibm_api_key_id='VoMlpse-6XdGqDo4vJYLRI6LuQkhGXt7qlYFhiSXCUTK',\n",
        "    ibm_auth_endpoint=\"https://iam.cloud.ibm.com/oidc/token\",\n",
        "    config=Config(signature_version='oauth'),\n",
        "    endpoint_url='https://s3.private.us.cloud-object-storage.appdomain.cloud')\n",
        "\n",
        "bucket = 'ckdprediction-donotdelete-pr-kvcxes1swicxqv'\n",
        "object_key = '/content/drive/MyDrive/cleaned dataset.csv'\n",
        "body = cos_client.get_object(Bucket=bucket,Key=object_key)['Body']\n",
        "# add missing __iter__ method, so pandas accepts body as file-like object\n",
        "if not hasattr(body, \"__iter__\"): body.__iter__ = types.MethodType( __iter__, body )\n",
        "\n",
        "df = pd.read_csv(body)\n",
        "df.head()"
      ]
    },
    {
      "cell_type": "code",
      "source": [
        "df"
      ],
      "metadata": {
        "id": "XjM6lUsMBidG"
      },
      "execution_count": null,
      "outputs": []
    },
    {
      "cell_type": "code",
      "source": [
        "# Separating the dependent and independent variables\n",
        "y = df['classification']\n",
        "X = df.drop(['classification','id'], axis = 1)\n",
        "X.head()"
      ],
      "metadata": {
        "id": "bFoNjFipBiZt"
      },
      "execution_count": null,
      "outputs": []
    },
    {
      "cell_type": "code",
      "source": [
        "# Building the model\n",
        "extra_tree_forest = ExtraTreesClassifier(n_estimators = 5,criterion ='entropy', max_features = 2)\n",
        "\n",
        "# Training the model\n",
        "extra_tree_forest.fit(X, y)\n",
        "\n",
        "# Computing the importance of each feature\n",
        "feature_importance = extra_tree_forest.feature_importances_\n",
        "\n",
        "# Normalizing the individual importances\n",
        "feature_importance_normalized = np.std([tree.feature_importances_ for tree in\n",
        "\t\t\t\t\t\t\t\t\t\textra_tree_forest.estimators_],\n",
        "\t\t\t\t\t\t\t\t\t\taxis = 0)"
      ],
      "metadata": {
        "id": "NYjw6JDRBiXU"
      },
      "execution_count": null,
      "outputs": []
    },
    {
      "cell_type": "code",
      "source": [
        "# Plotting a Bar Graph to compare the models\n",
        "plt.figure(figsize=(50,20))\n",
        "plt.bar(X.columns, feature_importance_normalized)\n",
        "\n",
        "plt.xlabel('Feature Labels')\n",
        "plt.ylabel('Feature Importances')\n",
        "plt.title('Comparison of different Feature Importances')\n",
        "plt.show()\n"
      ],
      "metadata": {
        "id": "wLUfeTV6Bqhk"
      },
      "execution_count": null,
      "outputs": []
    },
    {
      "cell_type": "markdown",
      "source": [
        "**Identifying top 10 features for pre-diagnosis test**"
      ],
      "metadata": {
        "id": "mIPTcAjRCDN4"
      }
    },
    {
      "cell_type": "code",
      "source": [
        "feature_scores=pd.DataFrame(extra_tree_forest.feature_importances_,columns=['Score'],index=X.columns).sort_values(by='Score',ascending=False)\n",
        "top10_feature = feature_scores.nlargest(n=10, columns=['Score'])\n",
        "plt.figure(figsize=(20,6))\n",
        "print(top10_feature.index)\n",
        "g = sns.barplot(x=top10_feature.index, y=top10_feature['Score'])\n",
        "p = plt.title('Top 10 Features with Extra Tree Classifier')\n",
        "p = plt.xlabel('Feature name')\n",
        "p = plt.ylabel('Extra Tree score')\n",
        "p = g.set_xticklabels(g.get_xticklabels(), horizontalalignment='right')"
      ],
      "metadata": {
        "id": "Xwv7IoMgBswM"
      },
      "execution_count": null,
      "outputs": []
    },
    {
      "cell_type": "code",
      "source": [
        "top10_feature.index"
      ],
      "metadata": {
        "id": "Zxp3Ga0oBvTz"
      },
      "execution_count": null,
      "outputs": []
    },
    {
      "cell_type": "code",
      "source": [
        "X.columns"
      ],
      "metadata": {
        "id": "CLRsfkaRBvQc"
      },
      "execution_count": null,
      "outputs": []
    },
    {
      "cell_type": "code",
      "source": [
        "'''\n",
        "#X.columns\n",
        "for ele in X.columns:\n",
        "  if ele not in top10_feature.index:\n",
        "    X = X.drop(ele, axis = 1)\n",
        "'''"
      ],
      "metadata": {
        "id": "fjZv5S-pBvOd"
      },
      "execution_count": null,
      "outputs": []
    },
    {
      "cell_type": "code",
      "source": [
        "#drop unwanted columns\n",
        "X=X.drop(['age', 'bp','rbc', 'pc', 'pcc', 'ba', 'bgr', 'bu',\n",
        "       'sc', 'sod', 'wc', 'rc', 'cad','pe'],axis=1)"
      ],
      "metadata": {
        "id": "NzQ9MxI2B1ni"
      },
      "execution_count": null,
      "outputs": []
    },
    {
      "cell_type": "code",
      "source": [
        "X.head()"
      ],
      "metadata": {
        "id": "GwEaXARsB1j_"
      },
      "execution_count": null,
      "outputs": []
    },
    {
      "cell_type": "code",
      "source": [
        "from sklearn.model_selection import train_test_split\n",
        "X_train, X_test, y_train, y_test = train_test_split(X, y, test_size = 0.30, random_state = "
      ],
      "metadata": {
        "id": "MKIRXDWGB1g4"
      },
      "execution_count": null,
      "outputs": []
    },
    {
      "cell_type": "markdown",
      "source": [
        "**Gradient Boosting Classifier**"
      ],
      "metadata": {
        "id": "2DIqHiBlCJxt"
      }
    },
    {
      "cell_type": "code",
      "source": [
        "from sklearn.ensemble import GradientBoostingClassifier\n",
        "gb = GradientBoostingClassifier()\n",
        "gb.fit(X_train, y_train)\n",
        "\n",
        "# accuracy score, confusion matrix and classification report of gradient boosting classifier\n",
        "gb_acc = accuracy_score(y_test, gb.predict(X_test))\n",
        "\n",
        "print(f\"Training Accuracy of Gradient Boosting Classifier is {accuracy_score(y_train, gb.predict(X_train))}\")\n",
        "print(f\"Test Accuracy of Gradient Boosting Classifier is {gb_acc*100} \\n\")\n",
        "\n",
        "print(f\"Confusion Matrix :- \\n{confusion_matrix(y_test, gb.predict(X_test))}\\n\")\n",
        "print(f\"Classification Report :- \\n {classification_report(y_test, gb.predict(X_test))}\")"
      ],
      "metadata": {
        "id": "ohk0xBGBB1eV"
      },
      "execution_count": null,
      "outputs": []
    },
    {
      "cell_type": "code",
      "source": [
        "sgb = GradientBoostingClassifier(max_depth = 4, subsample = 0.90, max_features = 0.75, n_estimators = 200)\n",
        "sgb.fit(X_train, y_train)\n",
        "\n",
        "# accuracy score, confusion matrix and classification report of stochastic gradient boosting classifier\n",
        "\n",
        "sgb_acc = accuracy_score(y_test, sgb.predict(X_test))\n",
        "\n",
        "print(f\"Training Accuracy of Stochastic Gradient Boosting is {accuracy_score(y_train, sgb.predict(X_train))*100}\")\n",
        "print(f\"Test Accuracy of Stochastic Gradient Boosting is {sgb_acc*100} \\n\")\n",
        "\n",
        "print(f\"Confusion Matrix :- \\n{confusion_matrix(y_test, sgb.predict(X_test))}\\n\")\n",
        "print(f\"Classification Report :- \\n {classification_report(y_test, sgb.predict(X_test))}\")"
      ],
      "metadata": {
        "id": "-k2tCaA4CQpL"
      },
      "execution_count": null,
      "outputs": []
    },
    {
      "cell_type": "markdown",
      "source": [
        "**Extra Tree Classifier**"
      ],
      "metadata": {
        "id": "cRQrylHUCTnx"
      }
    },
    {
      "cell_type": "code",
      "source": [
        "# accuracy score, confusion matrix and classification report of extra tree classifier\n",
        "etc = ExtraTreesClassifier()\n",
        "etc.fit(X_train, y_train)\n",
        "\n",
        "etc_acc = accuracy_score(y_test, etc.predict(X_test))\n",
        "\n",
        "print(f\"Training Accuracy of Extra Trees Classifier is {accuracy_score(y_train, etc.predict(X_train))*100}\")\n",
        "print(f\"Test Accuracy of Extra Trees Classifier is {etc_acc*100} \\n\")\n",
        "\n",
        "print(f\"Confusion Matrix :- \\n{confusion_matrix(y_test, etc.predict(X_test))}\\n\")\n",
        "print(f\"Classification Report :- \\n {classification_report(y_test, etc.predict(X_test))}\")"
      ],
      "metadata": {
        "id": "p7IPgq6ZCXf5"
      },
      "execution_count": null,
      "outputs": []
    },
    {
      "cell_type": "markdown",
      "source": [
        "**KNN**"
      ],
      "metadata": {
        "id": "ZWfWPaIBCaXt"
      }
    },
    {
      "cell_type": "code",
      "source": [
        "from sklearn.neighbors import KNeighborsClassifier\n",
        "from sklearn.metrics import accuracy_score, confusion_matrix, classification_report\n",
        "\n",
        "knn = KNeighborsClassifier()\n",
        "knn.fit(X_train, y_train)\n",
        "\n",
        "# accuracy score, confusion matrix and classification report of knn\n",
        "knn_acc = accuracy_score(y_test, knn.predict(X_test))\n",
        "print(f\"Training Accuracy of KNN is {accuracy_score(y_train, knn.predict(X_train))*100}\")\n",
        "print(f\"Test Accuracy of KNN is {knn_acc*100} \\n\")\n",
        "\n",
        "print(f\"Confusion Matrix :- \\n{confusion_matrix(y_test, knn.predict(X_test))}\\n\")\n",
        "print(f\"Classification Report :- \\n {classification_report(y_test, knn.predict(X_test))}\")"
      ],
      "metadata": {
        "id": "3PNwoz_SCf0E"
      },
      "execution_count": null,
      "outputs": []
    },
    {
      "cell_type": "markdown",
      "source": [
        "**Decision Tree Classifier**"
      ],
      "metadata": {
        "id": "buFMYF4JCjnk"
      }
    },
    {
      "cell_type": "code",
      "source": [
        "from sklearn.tree import DecisionTreeClassifier\n",
        "\n",
        "dtc = DecisionTreeClassifier()\n",
        "dtc.fit(X_train, y_train)\n",
        "\n",
        "# accuracy score, confusion matrix and classification report of decision tree\n",
        "\n",
        "dtc_acc = accuracy_score(y_test, dtc.predict(X_test))\n",
        "\n",
        "print(f\"Training Accuracy of Decision Tree Classifier is {accuracy_score(y_train, dtc.predict(X_train))*100}\")\n",
        "print(f\"Test Accuracy of Decision Tree Classifier is {dtc_acc*100} \\n\")\n",
        "\n",
        "print(f\"Confusion Matrix :- \\n{confusion_matrix(y_test, dtc.predict(X_test))}\\n\")\n",
        "print(f\"Classification Report :- \\n {classification_report(y_test, dtc.predict(X_test))}\")"
      ],
      "metadata": {
        "id": "vZhybLDOCmkR"
      },
      "execution_count": null,
      "outputs": []
    },
    {
      "cell_type": "code",
      "source": [
        "# hyper parameter tuning of decision tree \n",
        "\n",
        "from sklearn.model_selection import GridSearchCV\n",
        "grid_param = {\n",
        "    'criterion' : ['gini', 'entropy'],\n",
        "    'max_depth' : [3, 5, 7, 10],\n",
        "    'splitter' : ['best', 'random'],\n",
        "    'min_samples_leaf' : [1, 2, 3, 5, 7],\n",
        "    'min_samples_split' : [1, 2, 3, 5, 7],\n",
        "    'max_features' : ['auto', 'sqrt', 'log2']\n",
        "}\n",
        "\n",
        "grid_search_dtc = GridSearchCV(dtc, grid_param, cv = 5, n_jobs = -1, verbose = 1)\n",
        "grid_search_dtc.fit(X_train, y_train)"
      ],
      "metadata": {
        "id": "Fa8obBdNCjSK"
      },
      "execution_count": null,
      "outputs": []
    },
    {
      "cell_type": "code",
      "source": [
        "# best estimator\n",
        "dtc = grid_search_dtc.best_estimator_\n",
        "\n",
        "# accuracy score, confusion matrix and classification report of decision tree\n",
        "dtc_acc = accuracy_score(y_test, dtc.predict(X_test))\n",
        "\n",
        "print(f\"Training Accuracy of Decision Tree Classifier is {accuracy_score(y_train, dtc.predict(X_train))*100}\")\n",
        "print(f\"Test Accuracy of Decision Tree Classifier is {dtc_acc*100} \\n\")\n",
        "\n",
        "print(f\"Confusion Matrix :- \\n{confusion_matrix(y_test, dtc.predict(X_test))}\\n\")\n",
        "print(f\"Classification Report :- \\n {classification_report(y_test, dtc.predict(X_test))}\")"
      ],
      "metadata": {
        "id": "vsZYLiDvCjO5"
      },
      "execution_count": null,
      "outputs": []
    },
    {
      "cell_type": "markdown",
      "source": [
        "**Random Forest Classifier**"
      ],
      "metadata": {
        "id": "Q_cgmPbeC7dn"
      }
    },
    {
      "cell_type": "code",
      "source": [
        "from sklearn.ensemble import RandomForestClassifier\n",
        "\n",
        "rd_clf = RandomForestClassifier(criterion = 'entropy', max_depth = 11, max_features = 'auto', min_samples_leaf = 2, min_samples_split = 3, n_estimators = 130)\n",
        "rd_clf.fit(X_train, y_train)\n",
        "\n",
        "# accuracy score, confusion matrix and classification report of random forest\n",
        "\n",
        "rd_clf_acc = accuracy_score(y_test, rd_clf.predict(X_test))\n",
        "\n",
        "print(f\"Training Accuracy of Random Forest Classifier is {accuracy_score(y_train, rd_clf.predict(X_train))*100}\")\n",
        "print(f\"Test Accuracy of Random Forest Classifier is {rd_clf_acc*100} \\n\")\n",
        "\n",
        "print(f\"Confusion Matrix :- \\n{confusion_matrix(y_test, rd_clf.predict(X_test))}\\n\")\n",
        "print(f\"Classification Report :- \\n {classification_report(y_test, rd_clf.predict(X_test))}\")"
      ],
      "metadata": {
        "id": "8IfA0opPCjL7"
      },
      "execution_count": null,
      "outputs": []
    },
    {
      "cell_type": "markdown",
      "source": [
        "**ADA Boost Classifier**"
      ],
      "metadata": {
        "id": "YhD6iva2DBWu"
      }
    },
    {
      "cell_type": "code",
      "source": [
        "from sklearn.ensemble import AdaBoostClassifier\n",
        "\n",
        "ada = AdaBoostClassifier(base_estimator = dtc)\n",
        "ada.fit(X_train, y_train)\n",
        "\n",
        "# accuracy score, confusion matrix and classification report of ada boost\n",
        "\n",
        "ada_acc = accuracy_score(y_test, ada.predict(X_test))\n",
        "\n",
        "print(f\"Training Accuracy of Ada Boost Classifier is {accuracy_score(y_train, ada.predict(X_train))*100}\")\n",
        "print(f\"Test Accuracy of Ada Boost Classifier is {ada_acc*100} \\n\")\n",
        "\n",
        "print(f\"Confusion Matrix :- \\n{confusion_matrix(y_test, ada.predict(X_test))}\\n\")\n",
        "print(f\"Classification Report :- \\n {classification_report(y_test, ada.predict(X_test))}\")"
      ],
      "metadata": {
        "id": "ZXNav3wSCjJA"
      },
      "execution_count": null,
      "outputs": []
    },
    {
      "cell_type": "markdown",
      "source": [
        "**XGBoost**"
      ],
      "metadata": {
        "id": "vdBdmFtCDHHa"
      }
    },
    {
      "cell_type": "code",
      "source": [
        "from xgboost import XGBClassifier\n",
        "\n",
        "xgb = XGBClassifier(objective = 'binary:logistic', learning_rate = 0.5, max_depth = 5, n_estimators = 150)\n",
        "xgb.fit(X_train, y_train)\n",
        "\n",
        "# accuracy score, confusion matrix and classification report of xgboost\n",
        "\n",
        "xgb_acc = accuracy_score(y_test, xgb.predict(X_test))\n",
        "\n",
        "print(f\"Training Accuracy of XgBoost is {accuracy_score(y_train, xgb.predict(X_train))*100}\")\n",
        "print(f\"Test Accuracy of XgBoost is {xgb_acc*100} \\n\")\n",
        "\n",
        "print(f\"Confusion Matrix :- \\n{confusion_matrix(y_test, xgb.predict(X_test))}\\n\")\n",
        "print(f\"Classification Report :- \\n {classification_report(y_test, xgb.predict(X_test))}\")"
      ],
      "metadata": {
        "id": "kNyBDWw-CjGl"
      },
      "execution_count": null,
      "outputs": []
    },
    {
      "cell_type": "code",
      "source": [
        "!pip install catboost"
      ],
      "metadata": {
        "id": "nagJ7yy8CjEG"
      },
      "execution_count": null,
      "outputs": []
    },
    {
      "cell_type": "markdown",
      "source": [
        "**Cat Boost Classifier**"
      ],
      "metadata": {
        "id": "fjT0LdX8DPbF"
      }
    },
    {
      "cell_type": "code",
      "source": [
        "from catboost import CatBoostClassifier\n",
        "\n",
        "cat = CatBoostClassifier(iterations=10)\n",
        "cat.fit(X_train, y_train)"
      ],
      "metadata": {
        "id": "88n1UspuCjBq"
      },
      "execution_count": null,
      "outputs": []
    },
    {
      "cell_type": "code",
      "source": [
        "cat_acc = accuracy_score(y_test, cat.predict(X_test))\n",
        "\n",
        "print(f\"Training Accuracy of Cat Boost Classifier is {accuracy_score(y_train, cat.predict(X_train))*100}\")\n",
        "print(f\"Test Accuracy of Cat Boost Classifier is {cat_acc*100} \\n\")\n",
        "\n",
        "print(f\"Confusion Matrix :- \\n{confusion_matrix(y_test, cat.predict(X_test))}\\n\")\n",
        "print(f\"Classification Report :- \\n {classification_report(y_test, cat.predict(X_test))}\")"
      ],
      "metadata": {
        "id": "MruZA3h_DUdg"
      },
      "execution_count": null,
      "outputs": []
    },
    {
      "cell_type": "markdown",
      "source": [
        "**LGBM Classifier**"
      ],
      "metadata": {
        "id": "I7AFQ_RhCiuG"
      }
    },
    {
      "cell_type": "code",
      "source": [
        "from lightgbm import LGBMClassifier\n",
        "\n",
        "lgbm = LGBMClassifier(learning_rate = 1)\n",
        "lgbm.fit(X_train, y_train)\n",
        "\n",
        "# accuracy score, confusion matrix and classification report of lgbm classifier\n",
        "\n",
        "lgbm_acc = accuracy_score(y_test, lgbm.predict(X_test))\n",
        "\n",
        "print(f\"Training Accuracy of LGBM Classifier is {accuracy_score(y_train, lgbm.predict(X_train))*100}\")\n",
        "print(f\"Test Accuracy of LGBM Classifier is {lgbm_acc*100} \\n\")\n",
        "\n",
        "print(f\"{confusion_matrix(y_test, lgbm.predict(X_test))}\\n\")\n",
        "print(classification_report(y_test, lgbm.predict(X_test)))  "
      ],
      "metadata": {
        "id": "CrOM4doFDk3t"
      },
      "execution_count": null,
      "outputs": []
    },
    {
      "cell_type": "markdown",
      "source": [
        "**Models Comparison**"
      ],
      "metadata": {
        "id": "pdwNns2eDqWq"
      }
    },
    {
      "cell_type": "code",
      "source": [
        "models = pd.DataFrame({\n",
        "    'Model' : [ 'KNN', 'Decision Tree Classifier', 'Random Forest Classifier','ADA Boost Classifier',\n",
        "             'Gradient Boosting Classifier', 'Stochastic Gradient Boosting', 'XGBoost', 'Cat Boost', 'Extra Tree Classifier'],\n",
        "    'Score' : [knn_acc, dtc_acc, rd_clf_acc, ada_acc, gb_acc, sgb_acc, xgb_acc, cat_acc, etc_acc]\n",
        "})\n",
        "\n",
        "models.sort_values(by = 'Score', ascending = False)"
      ],
      "metadata": {
        "id": "soUJrHdGDtVR"
      },
      "execution_count": null,
      "outputs": []
    },
    {
      "cell_type": "code",
      "source": [
        "import plotly.express as px\n",
        "px.bar(data_frame = models, x = 'Score', y = 'Model', color = 'Score', template = 'plotly_dark', \n",
        "       title = 'Models Comparison')"
      ],
      "metadata": {
        "id": "6o-zk5CLDwKi"
      },
      "execution_count": null,
      "outputs": []
    },
    {
      "cell_type": "code",
      "source": [
        "!pip install ibm_watson_machine_learning"
      ],
      "metadata": {
        "id": "IwPDLerFDyVO"
      },
      "execution_count": null,
      "outputs": []
    },
    {
      "cell_type": "code",
      "source": [
        "from ibm_watson_machine_learning import APIClient\n",
        "wml_credentials = {\n",
        "    \"url\" : \"https://us-south.ml.cloud.ibm.com\",\n",
        "    \"apikey\" : \"v6zXMCaTXBv8fJlMVEucGxo5uWRpDfXWGxqBpPn2P_Xy\"\n",
        "}\n",
        "client = APIClient(wml_credentials)"
      ],
      "metadata": {
        "id": "z2AMlblRD0ed"
      },
      "execution_count": null,
      "outputs": []
    },
    {
      "cell_type": "code",
      "source": [
        "def guid_from_space_name(client, space_name):\n",
        "    space = client.spaces.get_details()\n",
        "    return(next(item for item in space['resources'] if item['entity'][\"name\"] == space_name)['m"
      ],
      "metadata": {
        "id": "Hh9xkJeSD0bH"
      },
      "execution_count": null,
      "outputs": []
    },
    {
      "cell_type": "code",
      "source": [
        "space_uid = guid_from_space_name(client, 'ckdModel')\n",
        "print(\"sSpace UID = \"+space_uid)  "
      ],
      "metadata": {
        "id": "wY_46HNYD0ZK"
      },
      "execution_count": null,
      "outputs": []
    },
    {
      "cell_type": "code",
      "source": [
        "client.set.default_space(space_uid)"
      ],
      "metadata": {
        "id": "pPA6MxBpD7S7"
      },
      "execution_count": null,
      "outputs": []
    },
    {
      "cell_type": "code",
      "source": [
        "client.software_specifications.list(limit=200)"
      ],
      "metadata": {
        "id": "efxoivXYD7Pc"
      },
      "execution_count": null,
      "outputs": []
    },
    {
      "cell_type": "code",
      "source": [
        "software_spec_uid = client.software_specifications.get_uid_by_name(\"runtime-22.1-py3.9\")\n",
        "software_spec_uid"
      ],
      "metadata": {
        "id": "EjP6DoEYD7M7"
      },
      "execution_count": null,
      "outputs": []
    },
    {
      "cell_type": "code",
      "source": [
        "model_details = client.repository.store_model(model = etc, meta_props = {\n",
        "        client.repository.ModelMetaNames.NAME: \"ckd\",\n",
        "        client.repository.ModelMetaNames.TYPE:\"scikit-learn_1.0\",\n",
        "        client.repository.ModelMetaNames.SOFTWARE_SPEC_UID: software_spec_uid\n",
        "        }\n",
        "    )\n",
        "model_id = client.repository.get_model_uid(model_details)"
      ],
      "metadata": {
        "id": "IZ0E6ez2EBrk"
      },
      "execution_count": null,
      "outputs": []
    },
    {
      "cell_type": "code",
      "source": [
        "model_id"
      ],
      "metadata": {
        "id": "hErFaLJTEBoI"
      },
      "execution_count": null,
      "outputs": []
    }
  ]
}