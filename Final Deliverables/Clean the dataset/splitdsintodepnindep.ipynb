{
  "nbformat": 4,
  "nbformat_minor": 0,
  "metadata": {
    "colab": {
      "provenance": []
    },
    "kernelspec": {
      "name": "python3",
      "display_name": "Python 3"
    },
    "language_info": {
      "name": "python"
    }
  },
  "cells": [
    {
      "cell_type": "markdown",
      "source": [
        "SPLITTING DATASET INTO DEPENDENT AND INDEPENDENT VARIABLE"
      ],
      "metadata": {
        "id": "dsMKbG0vQpXg"
      }
    },
    {
      "cell_type": "code",
      "source": [
        "import pandas as pd"
      ],
      "metadata": {
        "id": "ioRYksC9PwSm"
      },
      "execution_count": 3,
      "outputs": []
    },
    {
      "cell_type": "code",
      "source": [
        "url = '/content/chronickidneydisease.csv'\n",
        "df = pd.read_csv(url)\n",
        "data = pd.read_csv(url)"
      ],
      "metadata": {
        "id": "JAy3MF-RPayJ"
      },
      "execution_count": 4,
      "outputs": []
    },
    {
      "cell_type": "code",
      "execution_count": 5,
      "metadata": {
        "id": "hlYJ-k-9PG73"
      },
      "outputs": [],
      "source": [
        "x = data.iloc[:,:-1]\n",
        "y = data['classification']"
      ]
    },
    {
      "cell_type": "code",
      "source": [
        "from sklearn import preprocessing\n",
        "from sklearn.preprocessing import LabelEncoder\n",
        "lab_enc = preprocessing.LabelEncoder()\n",
        "y = lab_enc.fit_transform(y)"
      ],
      "metadata": {
        "id": "Cjh2KfJqPNtb"
      },
      "execution_count": 8,
      "outputs": []
    }
  ]
}