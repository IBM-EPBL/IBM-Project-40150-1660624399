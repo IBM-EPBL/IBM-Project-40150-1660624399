{
  "nbformat": 4,
  "nbformat_minor": 0,
  "metadata": {
    "colab": {
      "provenance": []
    },
    "kernelspec": {
      "name": "python3",
      "display_name": "Python 3"
    },
    "language_info": {
      "name": "python"
    }
  },
  "cells": [
    {
      "cell_type": "markdown",
      "source": [
        "TESTING THE MODEL"
      ],
      "metadata": {
        "id": "jZv6WCHEaqAz"
      }
    },
    {
      "cell_type": "code",
      "source": [
        " import sklearn.linear_model as sk\n",
        "\n",
        " logreg = sk.LogisticRegression()"
      ],
      "metadata": {
        "id": "DLWV5wOwaCyS"
      },
      "execution_count": 2,
      "outputs": []
    },
    {
      "cell_type": "code",
      "source": [
        "import sklearn.metrics as metrics"
      ],
      "metadata": {
        "id": "BsRoKKAGZpc6"
      },
      "execution_count": 5,
      "outputs": []
    }
  ]
}